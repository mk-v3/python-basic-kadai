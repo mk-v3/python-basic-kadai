{
  "nbformat": 4,
  "nbformat_minor": 0,
  "metadata": {
    "colab": {
      "provenance": [],
      "authorship_tag": "ABX9TyM/65d1ypAhVsMD3W8+9nrO"
    },
    "kernelspec": {
      "name": "python3",
      "display_name": "Python 3"
    },
    "language_info": {
      "name": "python"
    }
  },
  "cells": [
    {
      "cell_type": "code",
      "execution_count": 19,
      "metadata": {
        "colab": {
          "base_uri": "https://localhost:8080/"
        },
        "id": "p5uMEKbNJQDa",
        "outputId": "7ad9f9de-61ea-44c0-d91b-bfcd7435957b"
      },
      "outputs": [
        {
          "output_type": "stream",
          "name": "stdout",
          "text": [
            "Aliceさんは25歳で大人です。\n",
            "Bobさんは18歳で大人ではありません。\n",
            "Charlieさんは30歳で大人です。\n",
            "Davidさんは12歳で大人ではありません。\n",
            "Eveさんは22歳で大人です。\n",
            "Frankさんは16歳で大人ではありません。\n",
            "Graceさんは27歳で大人です。\n",
            "Henryさんは14歳で大人ではありません。\n",
            "Ivyさんは32歳で大人です。\n",
            "Jackさんは20歳で大人です。\n"
          ]
        }
      ],
      "source": [
        "class Human:\n",
        "    def __init__(self, name, age):\n",
        "        self.name = name\n",
        "        self.age = age\n",
        "\n",
        "    def check_adult(self):\n",
        "        if self.age >= 20:\n",
        "            print(f\"{self.name}さんは{self.age}歳で大人です。\")\n",
        "        else:\n",
        "            print(f\"{self.name}さんは{self.age}歳で大人ではありません。\")\n",
        "\n",
        "human1 = Human(\"Alice\", 25)\n",
        "human2 = Human(\"Bob\", 18)\n",
        "human3 = Human(\"Charlie\", 30)\n",
        "human4 = Human(\"David\", 12)\n",
        "human5 = Human(\"Eve\", 22)\n",
        "human6 = Human(\"Frank\", 16)\n",
        "human7 = Human(\"Grace\", 27)\n",
        "human8 = Human(\"Henry\", 14)\n",
        "human9 = Human(\"Ivy\", 32)\n",
        "human10 = Human(\"Jack\", 20)\n",
        "\n",
        "humans = [human1, human2, human3, human4, human5, human6, human7, human8, human9, human10]\n",
        "\n",
        "for human in humans:\n",
        "    human.check_adult()"
      ]
    }
  ]
}