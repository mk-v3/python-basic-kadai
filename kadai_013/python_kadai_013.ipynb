{
  "nbformat": 4,
  "nbformat_minor": 0,
  "metadata": {
    "colab": {
      "provenance": [],
      "authorship_tag": "ABX9TyOD8Bf+zMhjAqhaWWHFtgqQ"
    },
    "kernelspec": {
      "name": "python3",
      "display_name": "Python 3"
    },
    "language_info": {
      "name": "python"
    }
  },
  "cells": [
    {
      "cell_type": "code",
      "execution_count": 32,
      "metadata": {
        "colab": {
          "base_uri": "https://localhost:8080/"
        },
        "id": "7xcU9ji37jD4",
        "outputId": "ad3924b9-710f-4209-e9c1-67bcad1ebffc"
      },
      "outputs": [
        {
          "output_type": "stream",
          "name": "stdout",
          "text": [
            "税込2048.2000000000003円です。\n"
          ]
        }
      ],
      "source": [
        "def calculate_total(price, tax):\n",
        "    total = price * (1 + tax)\n",
        "    return total\n",
        "\n",
        "print(f\"税込{calculate_total(1862, 0.1)}円です。\")"
      ]
    }
  ]
}