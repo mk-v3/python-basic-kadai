{
  "nbformat": 4,
  "nbformat_minor": 0,
  "metadata": {
    "colab": {
      "provenance": [],
      "authorship_tag": "ABX9TyOFtOkbO8U15YdwsceXPxc5"
    },
    "kernelspec": {
      "name": "python3",
      "display_name": "Python 3"
    },
    "language_info": {
      "name": "python"
    }
  },
  "cells": [
    {
      "cell_type": "code",
      "execution_count": 12,
      "metadata": {
        "colab": {
          "base_uri": "https://localhost:8080/"
        },
        "id": "7xcU9ji37jD4",
        "outputId": "2cf5a7dc-a8df-4470-9899-46d4551addcf"
      },
      "outputs": [
        {
          "output_type": "stream",
          "name": "stdout",
          "text": [
            "税込2048.2000000000003円\n"
          ]
        }
      ],
      "source": [
        "def calculate_total(price, tax):\n",
        "    total = price * (1 + tax)\n",
        "    print(f\"税込{total}円\")\n",
        "\n",
        "calculate_total(1862, 0.1)"
      ]
    }
  ]
}