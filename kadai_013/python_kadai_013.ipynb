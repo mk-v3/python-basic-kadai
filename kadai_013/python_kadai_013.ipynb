{
  "nbformat": 4,
  "nbformat_minor": 0,
  "metadata": {
    "colab": {
      "provenance": [],
      "authorship_tag": "ABX9TyOhilgEiM3GLyzpvjmqLcpu"
    },
    "kernelspec": {
      "name": "python3",
      "display_name": "Python 3"
    },
    "language_info": {
      "name": "python"
    }
  },
  "cells": [
    {
      "cell_type": "code",
      "execution_count": 19,
      "metadata": {
        "colab": {
          "base_uri": "https://localhost:8080/"
        },
        "id": "7xcU9ji37jD4",
        "outputId": "5b17351a-9c5c-4ae9-e3fb-ca8ef96c73d3"
      },
      "outputs": [
        {
          "output_type": "execute_result",
          "data": {
            "text/plain": [
              "2048.2000000000003"
            ]
          },
          "metadata": {},
          "execution_count": 19
        }
      ],
      "source": [
        "def calculate_total(price, tax):\n",
        "    total = price * (1 + tax)\n",
        "    return total\n",
        "\n",
        "calculate_total(1862, 0.1)"
      ]
    }
  ]
}