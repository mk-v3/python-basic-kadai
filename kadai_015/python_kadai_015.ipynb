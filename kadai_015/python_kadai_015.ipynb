{
  "nbformat": 4,
  "nbformat_minor": 0,
  "metadata": {
    "colab": {
      "provenance": [],
      "authorship_tag": "ABX9TyOOvwSu6RPWsayNkXV4TLzx"
    },
    "kernelspec": {
      "name": "python3",
      "display_name": "Python 3"
    },
    "language_info": {
      "name": "python"
    }
  },
  "cells": [
    {
      "cell_type": "code",
      "execution_count": 5,
      "metadata": {
        "colab": {
          "base_uri": "https://localhost:8080/"
        },
        "id": "GWKQuT_Epf79",
        "outputId": "f3987841-415b-4c38-dabf-087eb022f86d"
      },
      "outputs": [
        {
          "output_type": "stream",
          "name": "stdout",
          "text": [
            "名前：Hal 年齢:24歳\n"
          ]
        }
      ],
      "source": [
        "class Human:\n",
        "    def __init__(self, name, age):\n",
        "        self.name = name\n",
        "        self.age = age\n",
        "\n",
        "    def   printinfo(self):\n",
        "        print(f\"名前：{self.name} 年齢:{self.age}歳\")\n",
        "\n",
        "human = Human(\"Hal\", \"24\")\n",
        "\n",
        "human.printinfo()"
      ]
    }
  ]
}